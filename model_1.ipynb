{
 "cells": [
  {
   "cell_type": "code",
   "execution_count": null,
   "metadata": {},
   "outputs": [],
   "source": [
    "import pandas as pd\n",
    "import numpy as np\n",
    "from catboost import CatBoostRegressor\n",
    "from sklearn.metrics import mean_squared_error\n",
    "\n",
    "\n",
    "train = pd.read_csv('/kaggle/input/playground-series-s3e20/train.csv')\n",
    "test = pd.read_csv('/kaggle/input/playground-series-s3e20/test.csv')\n",
    "sample_submission = pd.read_csv('/kaggle/input/playground-series-s3e20/sample_submission.csv')\n",
    "\n",
    "\n",
    "X = train.drop(columns=['ID_LAT_LON_YEAR_WEEK', 'emission'])\n",
    "y = train['emission']\n",
    "\n",
    "\n",
    "cat_params = {\n",
    "    'n_estimators': 4200,\n",
    "    'learning_rate': 0.1,\n",
    "    'depth': 6,\n",
    "    'l2_leaf_reg': 5.5,\n",
    "    'subsample': 0.7,\n",
    "    'colsample_bylevel': 0.8,\n",
    "    'min_data_in_leaf': 53,\n",
    "    'random_state': 42\n",
    "}\n",
    "\n",
    "\n",
    "predictions = np.zeros(test.shape[0])\n",
    "\n",
    "\n",
    "years = [2019, 2020, 2021]\n",
    "\n",
    "for year in years:\n",
    "    \n",
    "    X_train = X[X['year'] != year]\n",
    "    y_train = y[X['year'] != year]\n",
    "    X_val = X[X['year'] == year]\n",
    "    y_val = y[X['year'] == year]\n",
    "\n",
    "    \n",
    "    model = CatBoostRegressor(**cat_params)\n",
    "    model.fit(X_train, y_train, verbose=False)\n",
    "\n",
    "    \n",
    "    val_preds = model.predict(X_val)\n",
    "    rmse = np.sqrt(mean_squared_error(y_val, val_preds))\n",
    "    print(f'Year {year} - Validation RMSE: {rmse}')\n",
    "\n",
    "    \n",
    "    year_preds = model.predict(test.drop(columns='ID_LAT_LON_YEAR_WEEK'))\n",
    "    predictions += year_preds / len(years)\n",
    "\n",
    "\n",
    "sample_submission['emission'] = predictions\n",
    "sample_submission.to_csv('model_1_submission.csv', index=False)"
   ]
  }
 ],
 "metadata": {
  "kernelspec": {
   "display_name": "Python 3",
   "language": "python",
   "name": "python3"
  },
  "language_info": {
   "codemirror_mode": {
    "name": "ipython",
    "version": 3
   },
   "file_extension": ".py",
   "mimetype": "text/x-python",
   "name": "python",
   "nbconvert_exporter": "python",
   "pygments_lexer": "ipython3",
   "version": "3.7.1"
  }
 },
 "nbformat": 4,
 "nbformat_minor": 4
}
